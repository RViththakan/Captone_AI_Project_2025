{
 "cells": [
  {
   "cell_type": "code",
   "execution_count": 1,
   "id": "4532c55f",
   "metadata": {},
   "outputs": [
    {
     "name": "stdout",
     "output_type": "stream",
     "text": [
      "Model and label encoders saved successfully!\n"
     ]
    }
   ],
   "source": [
    "import pandas as pd\n",
    "from sklearn.model_selection import train_test_split\n",
    "from sklearn.ensemble import RandomForestClassifier\n",
    "from sklearn.preprocessing import LabelEncoder\n",
    "from sklearn.multioutput import MultiOutputClassifier\n",
    "import pickle\n",
    "\n",
    "# Load Dataset\n",
    "data = pd.read_csv('Largescale_plants.csv', encoding='utf-8')\n",
    "\n",
    "# Define Features (X) and Targets (y)\n",
    "features = ['Average Size', 'Climate', 'Soil Type', 'Experience', 'Labour Requirement', 'Irrigation System']\n",
    "targets = ['Recommended Plant','Crop Yield Potential','Pest and Disease Resistance']\n",
    "\n",
    "X = data[features]\n",
    "y = data[targets]\n",
    "\n",
    "# Encode categorical features using LabelEncoder\n",
    "label_encoders = {}\n",
    "for column in X.columns:\n",
    "    if X[column].dtype == 'object':  # Encode only categorical columns\n",
    "        le = LabelEncoder()\n",
    "        X.loc[:, column] = le.fit_transform(X[column])\n",
    "        label_encoders[column] = le\n",
    "\n",
    "# Split data into training and testing sets\n",
    "X_train, X_test, y_train, y_test = train_test_split(X, y, test_size=0.2, random_state=42)\n",
    "\n",
    "# Use MultiOutputClassifier for multi-output prediction\n",
    "rf_classifier = MultiOutputClassifier(RandomForestClassifier(n_estimators=100, random_state=42))\n",
    "rf_classifier.fit(X_train, y_train)\n",
    "\n",
    "# Save the trained model and label encoders using pickle\n",
    "with open('plant_recommendation_model_largescale.pkl', 'wb') as model_file:\n",
    "    pickle.dump(rf_classifier, model_file)\n",
    "\n",
    "with open('label_encoders_largescale.pkl', 'wb') as encoder_file:\n",
    "    pickle.dump(label_encoders, encoder_file)\n",
    "\n",
    "print(\"Model and label encoders saved successfully!\")\n"
   ]
  },
  {
   "cell_type": "code",
   "execution_count": null,
   "id": "8fe81485",
   "metadata": {},
   "outputs": [
    {
     "name": "stdout",
     "output_type": "stream",
     "text": [
      "Loaded encoder keys: dict_keys(['Average Size', 'Climate', 'Soil Type', 'Experience', 'Labour Requirement', 'Irrigation System'])\n"
     ]
    }
   ],
   "source": [
    "import pandas as pd\n",
    "import pickle\n",
    "\n",
    "# Load the trained model and label encoders\n",
    "try:\n",
    "    with open('plant_recommendation_model_largescale.pkl', 'rb') as model_file:\n",
    "        loaded_model = pickle.load(model_file)\n",
    "\n",
    "    with open('label_encoders_largescale.pkl', 'rb') as encoder_file:\n",
    "        loaded_encoders = pickle.load(encoder_file)\n",
    "    print(\"Loaded encoder keys:\", loaded_encoders.keys())  # Debugging: Print encoder keys\n",
    "except FileNotFoundError:\n",
    "    print(\"Error: Model or encoder files not found. Please train the model first.\")\n",
    "    exit()\n",
    "\n",
    "def get_user_input():\n",
    "    \"\"\"Gets user input for plant features.\"\"\"\n",
    "    features = {}\n",
    "    features['Average Size'] = input(\"Enter Average Size (Less than 10 acres / 10 to 100 acres / More than 100 acres): \").strip().capitalize()\n",
    "    features['Climate'] = input(\"Enter Climate (Tropical / Temperate / Arid): \").strip().capitalize()\n",
    "    features['Soil Type'] = input(\"Enter Soil Type (Loamy Soil / Clayey Soil / Sandy Soil): \").strip().title()\n",
    "    features['Experience'] = input(\"Enter Experience (New for Farming / Successful): \").strip().capitalize()\n",
    "    features['Labour Requirement'] = input(\"Enter Labour Requirement (Medium / High): \").strip().capitalize()\n",
    "    features['Irrigation System'] = input(\"Enter Irrigation System (Fully Irrigated / Partial Irrigation / Rain-fed): \").strip().capitalize()\n",
    "    return pd.DataFrame([features])\n",
    "\n",
    "def predict_plant(user_data, model, encoders):\n",
    "    \"\"\"Predicts the recommended plant based on user input.\"\"\"\n",
    "    try:\n",
    "        encoded_data = user_data.copy()\n",
    "        for column in encoded_data.columns:\n",
    "            if column in encoders:\n",
    "                le = encoders[column]\n",
    "                if user_data[column][0] in le.classes_:\n",
    "                    encoded_data.loc[:, column] = le.transform(user_data[column])\n",
    "                else:\n",
    "                    print(f\"Warning: Unseen label '{user_data[column][0]}' for column '{column}'. Defaulting to most frequent class.\")\n",
    "                    encoded_data.loc[:, column] = le.transform([le.classes_[0]])  # Default to most common class\n",
    "\n",
    "        prediction = model.predict(encoded_data)\n",
    "        \n",
    "        print(f\"Prediction shape: {prediction.shape}\")  # Debugging: Print the shape of the prediction\n",
    "\n",
    "        if prediction.shape[1] == 3:\n",
    "            return prediction[0][0], prediction[0][1], prediction[0][2]\n",
    "        else:\n",
    "            print(\"Unexpected model output format.\")\n",
    "            return None, None, None\n",
    "    except KeyError as e:\n",
    "        print(f\"Error: Invalid feature input. Please check your inputs. {e}\")\n",
    "        return None, None, None\n",
    "    except ValueError as e:\n",
    "        print(f\"Error: Input value not in training data. Please check your inputs. {e}\")\n",
    "        return None, None, None\n",
    "\n",
    "# Main execution\n",
    "user_input_data = get_user_input()\n",
    "recommended_plant, pest_disease_resistance, crop_yield_potential = predict_plant(user_input_data, loaded_model, loaded_encoders)\n",
    "\n",
    "if recommended_plant is not None:\n",
    "    print(f\"\\n--- Plant Recommendation ---\")\n",
    "    print(f\"Recommended Plant: {recommended_plant}\")\n",
    "    print(f\"Crop Yield Potential: {crop_yield_potential}\")\n",
    "    print(f\"Pest and Disease Resistance: {pest_disease_resistance}\")\n"
   ]
  },
  {
   "cell_type": "code",
   "execution_count": null,
   "id": "d2c7645d",
   "metadata": {},
   "outputs": [],
   "source": []
  }
 ],
 "metadata": {
  "kernelspec": {
   "display_name": "Python 3 (ipykernel)",
   "language": "python",
   "name": "python3"
  },
  "language_info": {
   "codemirror_mode": {
    "name": "ipython",
    "version": 3
   },
   "file_extension": ".py",
   "mimetype": "text/x-python",
   "name": "python",
   "nbconvert_exporter": "python",
   "pygments_lexer": "ipython3",
   "version": "3.11.5"
  }
 },
 "nbformat": 4,
 "nbformat_minor": 5
}
