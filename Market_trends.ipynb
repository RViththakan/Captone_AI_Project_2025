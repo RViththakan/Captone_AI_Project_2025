{
 "cells": [
  {
   "cell_type": "code",
   "execution_count": 3,
   "id": "cc43aea4",
   "metadata": {},
   "outputs": [
    {
     "name": "stdout",
     "output_type": "stream",
     "text": [
      "Model trained and saved as market_trends_model.pkl\n"
     ]
    }
   ],
   "source": [
    "import pandas as pd\n",
    "import pickle\n",
    "from sklearn.model_selection import train_test_split\n",
    "from sklearn.ensemble import RandomForestClassifier\n",
    "from sklearn.preprocessing import LabelEncoder\n",
    "\n",
    "# Load dataset\n",
    "df = pd.read_csv('Market_trends.csv', encoding='Windows-1252')\n",
    "df.columns = df.columns.str.strip()\n",
    "\n",
    "# Encode categorical columns\n",
    "label_encoders = {}\n",
    "categorical_cols = ['Crop', 'Peak Demand Regions']\n",
    "for col in categorical_cols:\n",
    "    le = LabelEncoder()\n",
    "    df[col] = le.fit_transform(df[col].astype(str))\n",
    "    label_encoders[col] = le\n",
    "\n",
    "# Define features and target\n",
    "X = df.drop(columns=['Best Selling Months', 'Market Insights'])\n",
    "y = df['Best Selling Months']  # Predicting best-selling months\n",
    "\n",
    "# Split data\n",
    "X_train, X_test, y_train, y_test = train_test_split(X, y, test_size=0.2, random_state=42)\n",
    "\n",
    "# Train model\n",
    "model = RandomForestClassifier(n_estimators=100, random_state=42)\n",
    "model.fit(X_train, y_train)\n",
    "\n",
    "# Save model\n",
    "with open('market_trends_model_market.pkl', 'wb') as model_file:\n",
    "    pickle.dump({'model': model, 'label_encoders': label_encoders}, model_file)\n",
    "\n",
    "print(\"Model trained and saved as market_trends_model.pkl\")\n"
   ]
  },
  {
   "cell_type": "code",
   "execution_count": null,
   "id": "6648364a",
   "metadata": {},
   "outputs": [
    {
     "name": "stdout",
     "output_type": "stream",
     "text": [
      "Model loaded successfully.\n"
     ]
    }
   ],
   "source": [
    "import pandas as pd\n",
    "import pickle\n",
    "\n",
    "# Load the trained model and label encoders\n",
    "try:\n",
    "    with open('market_trends_model_market.pkl', 'rb') as model_file:\n",
    "        loaded_model = pickle.load(model_file)\n",
    "    print(\"Model loaded successfully.\")\n",
    "except FileNotFoundError:\n",
    "    print(\"Error: Model file not found. Please train the model first.\")\n",
    "    exit()\n",
    "\n",
    "def get_user_input():\n",
    "    \"\"\"Gets user input for crop features.\"\"\"\n",
    "    crop_name = input(\"Enter Crop Name: \").strip()\n",
    "    return crop_name\n",
    "\n",
    "def get_crop_info(crop_name, df):\n",
    "    \"\"\"Fetches market insights based on the crop name.\"\"\"\n",
    "    crop_name = crop_name.lower()\n",
    "    filtered_df = df[df['Crop'].str.lower() == crop_name]\n",
    "    if not filtered_df.empty:\n",
    "        crop_data = filtered_df.iloc[0]\n",
    "        return {\n",
    "            \"Best Selling Months\": crop_data['Best Selling Months'],\n",
    "            \"Peak Demand Regions\": crop_data['Peak Demand Regions'],\n",
    "            \"Market Insights\": crop_data['Market Insights']\n",
    "        }\n",
    "    return {\"error\": \"Crop not found in dataset\"}\n",
    "\n",
    "# Load dataset\n",
    "df = pd.read_csv('Market_trends.csv', encoding='Windows-1252')\n",
    "df.columns = df.columns.str.strip()\n",
    "\n",
    "# Main execution\n",
    "user_crop = get_user_input()\n",
    "crop_info = get_crop_info(user_crop, df)\n",
    "\n",
    "if \"error\" not in crop_info:\n",
    "    print(f\"Best Selling Months: {crop_info['Best Selling Months']}\")\n",
    "    print(f\"Peak Demand Regions: {crop_info['Peak Demand Regions']}\")\n",
    "    print(f\"Market Insights: {crop_info['Market Insights']}\")\n",
    "else:\n",
    "    print(crop_info['error'])\n"
   ]
  },
  {
   "cell_type": "code",
   "execution_count": null,
   "id": "69a94098",
   "metadata": {},
   "outputs": [],
   "source": []
  }
 ],
 "metadata": {
  "kernelspec": {
   "display_name": "Python 3 (ipykernel)",
   "language": "python",
   "name": "python3"
  },
  "language_info": {
   "codemirror_mode": {
    "name": "ipython",
    "version": 3
   },
   "file_extension": ".py",
   "mimetype": "text/x-python",
   "name": "python",
   "nbconvert_exporter": "python",
   "pygments_lexer": "ipython3",
   "version": "3.11.5"
  }
 },
 "nbformat": 4,
 "nbformat_minor": 5
}
