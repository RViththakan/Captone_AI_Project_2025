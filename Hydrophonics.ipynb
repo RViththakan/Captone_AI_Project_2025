{
 "cells": [
  {
   "cell_type": "code",
   "execution_count": 2,
   "id": "c59bb15c",
   "metadata": {},
   "outputs": [
    {
     "name": "stdout",
     "output_type": "stream",
     "text": [
      "Columns before encoding: Index(['Space Availability', 'Location', 'Plant Type', 'Growth Type', 'Budget',\n",
      "       'Aesthetic Feature'],\n",
      "      dtype='object')\n",
      "Columns after encoding: Index(['Space Availability', 'Location', 'Plant Type', 'Growth Type', 'Budget',\n",
      "       'Aesthetic Feature'],\n",
      "      dtype='object')\n"
     ]
    },
    {
     "name": "stderr",
     "output_type": "stream",
     "text": [
      "C:\\Users\\jagap\\AppData\\Local\\Temp\\ipykernel_36288\\276693824.py:20: SettingWithCopyWarning: \n",
      "A value is trying to be set on a copy of a slice from a DataFrame.\n",
      "Try using .loc[row_indexer,col_indexer] = value instead\n",
      "\n",
      "See the caveats in the documentation: https://pandas.pydata.org/pandas-docs/stable/user_guide/indexing.html#returning-a-view-versus-a-copy\n",
      "  X[column] = le.fit_transform(X[column])\n",
      "C:\\Users\\jagap\\AppData\\Local\\Temp\\ipykernel_36288\\276693824.py:20: SettingWithCopyWarning: \n",
      "A value is trying to be set on a copy of a slice from a DataFrame.\n",
      "Try using .loc[row_indexer,col_indexer] = value instead\n",
      "\n",
      "See the caveats in the documentation: https://pandas.pydata.org/pandas-docs/stable/user_guide/indexing.html#returning-a-view-versus-a-copy\n",
      "  X[column] = le.fit_transform(X[column])\n",
      "C:\\Users\\jagap\\AppData\\Local\\Temp\\ipykernel_36288\\276693824.py:20: SettingWithCopyWarning: \n",
      "A value is trying to be set on a copy of a slice from a DataFrame.\n",
      "Try using .loc[row_indexer,col_indexer] = value instead\n",
      "\n",
      "See the caveats in the documentation: https://pandas.pydata.org/pandas-docs/stable/user_guide/indexing.html#returning-a-view-versus-a-copy\n",
      "  X[column] = le.fit_transform(X[column])\n",
      "C:\\Users\\jagap\\AppData\\Local\\Temp\\ipykernel_36288\\276693824.py:20: SettingWithCopyWarning: \n",
      "A value is trying to be set on a copy of a slice from a DataFrame.\n",
      "Try using .loc[row_indexer,col_indexer] = value instead\n",
      "\n",
      "See the caveats in the documentation: https://pandas.pydata.org/pandas-docs/stable/user_guide/indexing.html#returning-a-view-versus-a-copy\n",
      "  X[column] = le.fit_transform(X[column])\n",
      "C:\\Users\\jagap\\AppData\\Local\\Temp\\ipykernel_36288\\276693824.py:20: SettingWithCopyWarning: \n",
      "A value is trying to be set on a copy of a slice from a DataFrame.\n",
      "Try using .loc[row_indexer,col_indexer] = value instead\n",
      "\n",
      "See the caveats in the documentation: https://pandas.pydata.org/pandas-docs/stable/user_guide/indexing.html#returning-a-view-versus-a-copy\n",
      "  X[column] = le.fit_transform(X[column])\n",
      "C:\\Users\\jagap\\AppData\\Local\\Temp\\ipykernel_36288\\276693824.py:20: SettingWithCopyWarning: \n",
      "A value is trying to be set on a copy of a slice from a DataFrame.\n",
      "Try using .loc[row_indexer,col_indexer] = value instead\n",
      "\n",
      "See the caveats in the documentation: https://pandas.pydata.org/pandas-docs/stable/user_guide/indexing.html#returning-a-view-versus-a-copy\n",
      "  X[column] = le.fit_transform(X[column])\n"
     ]
    },
    {
     "name": "stdout",
     "output_type": "stream",
     "text": [
      "Model and label encoders saved successfully!\n"
     ]
    }
   ],
   "source": [
    "import pandas as pd\n",
    "from sklearn.model_selection import train_test_split\n",
    "from sklearn.ensemble import RandomForestClassifier\n",
    "from sklearn.preprocessing import LabelEncoder\n",
    "import pickle\n",
    "# Load Dataset\n",
    "data = pd.read_csv('hydrophonic_plants.csv', encoding='ISO-8859-1')\n",
    " \n",
    "# Define Features (X) and Targets (y)\n",
    "features = ['Space Availability', 'Location', 'Plant Type', 'Growth Type', 'Budget', 'Aesthetic Feature']\n",
    "targets = ['Watering', 'Maintenance', 'Sunlight', 'Recommended Plant']\n",
    " \n",
    "X = data[features]\n",
    "y = data[targets]\n",
    "# Encode categorical features using LabelEncoder\n",
    "label_encoders = {}\n",
    "print(\"Columns before encoding:\", X.columns)  # Debugging: Print columns before\n",
    "for column in X.columns:\n",
    "    le = LabelEncoder()\n",
    "    X[column] = le.fit_transform(X[column])\n",
    "    label_encoders[column] = le\n",
    "print(\"Columns after encoding:\", X.columns)  # Debugging: Print columns after\n",
    "# Split data into training and testing sets\n",
    "X_train, X_test, y_train, y_test = train_test_split(X, y, test_size=0.2, random_state=42)\n",
    "# Create and train the Random Forest Classifier\n",
    "rf_classifier = RandomForestClassifier(n_estimators=100, random_state=42)  # You can adjust hyperparameters\n",
    "rf_classifier.fit(X_train, y_train)\n",
    "# Save the trained model and label encoders using pickle\n",
    "with open('plant_recommendation_model_hydrophonics.pkl', 'wb') as model_file:\n",
    "    pickle.dump(rf_classifier, model_file)\n",
    "with open('label_encoders_hydrophonics.pkl', 'wb') as encoder_file:\n",
    "    pickle.dump(label_encoders, encoder_file)\n",
    "print(\"Model and label encoders saved successfully!\")"
   ]
  },
  {
   "cell_type": "code",
   "execution_count": 1,
   "id": "d23c2f96",
   "metadata": {},
   "outputs": [
    {
     "name": "stdout",
     "output_type": "stream",
     "text": [
      "Loaded encoder keys: dict_keys(['Space Availability', 'Location', 'Plant Type', 'Growth Type', 'Budget', 'Aesthetic Feature'])\n",
      "Enter Space Availability (e.g.,Residential/Commercial): Commercial\n",
      "Enter Location (Indoor/Outdoor): Outdoor\n",
      "Enter Plant Type (e.g., Small/Large): Large\n",
      "Enter Growth Type (e.g., Temperate/Tropical): Tropical\n",
      "Enter Budget (e.g., Low budget/Large budget): Large budget\n",
      "Enter Aesthetic Feature (e.g., Edible/Decorative): Decorative\n",
      "Watering: Low Watering\n",
      "Maintenance: Natural Sunlight\n",
      "Sunlight: Low maintenance\n",
      "Recommended Plant: Golden Quince\n"
     ]
    }
   ],
   "source": [
    "import pandas as pd\n",
    "import pickle\n",
    " \n",
    "# Load the trained model and label encoders\n",
    "try:\n",
    "    with open('plant_recommendation_model_hydrophonics.pkl', 'rb') as model_file:\n",
    "        loaded_model = pickle.load(model_file)\n",
    " \n",
    "    with open('label_encoders_hydrophonics.pkl', 'rb') as encoder_file:\n",
    "        loaded_encoders = pickle.load(encoder_file)\n",
    "    print(\"Loaded encoder keys:\", loaded_encoders.keys())  # Debugging: Print encoder keys\n",
    "except FileNotFoundError:\n",
    "    print(\"Error: Model or encoder files not found. Please train the model first.\")\n",
    "    exit()\n",
    " \n",
    "def get_user_input():\n",
    "    \"\"\"Gets user input for plant features.\"\"\"\n",
    "    features = {}\n",
    "    features['Space Availability'] = input(\"Enter Space Availability (e.g.,Residential/Commercial): \").capitalize()\n",
    "    features['Location'] = input(\"Enter Location (Indoor/Outdoor): \").capitalize()\n",
    "    features['Plant Type'] = input(\"Enter Plant Type (e.g., Small/Large): \").capitalize()\n",
    "    features['Growth Type'] = input(\"Enter Growth Type (e.g., Temperate/Tropical): \").capitalize()\n",
    "    features['Budget'] = input(\"Enter Budget (e.g., Low budget/Large budget): \").capitalize()\n",
    "    features['Aesthetic Feature'] = input(\"Enter Aesthetic Feature (e.g., Edible/Decorative): \").capitalize()\n",
    "    return pd.DataFrame([features])\n",
    " \n",
    "def predict_plant(user_data, model, encoders):\n",
    "    \"\"\"Predicts the recommended plant based on user input.\"\"\"\n",
    "    try:\n",
    "        encoded_data = user_data.copy()\n",
    "        for column in encoded_data.columns:\n",
    "            encoded_data[column] = encoders[column].transform(encoded_data[column])\n",
    "        \n",
    "        prediction = model.predict(encoded_data)\n",
    "        # Assuming the model returns multiple values, e.g., recommended plant, watering, sunlight, maintenance\n",
    "        # If it's just a single value, you'll need to adjust this part based on your model's output.\n",
    "        watering, sunlight, maintenance, recommended_plant = prediction[0]\n",
    "        return recommended_plant, watering, sunlight, maintenance\n",
    "    except KeyError as e:\n",
    "        print(f\"Error: Invalid feature input. Please check your inputs. {e}\")\n",
    "        return None, None, None, None\n",
    "    except ValueError as e:\n",
    "        print(f\"Error: Input value not in training data. Please check your inputs. {e}\")\n",
    "        return None, None, None, None\n",
    " \n",
    "# Main execution\n",
    "user_input_data = get_user_input()\n",
    "recommended_plant, watering, sunlight, maintenance = predict_plant(user_input_data, loaded_model, loaded_encoders)\n",
    " \n",
    "if recommended_plant:\n",
    "    print(f\"Watering: {watering}\")\n",
    "    print(f\"Maintenance: {maintenance}\")\n",
    "    print(f\"Sunlight: {sunlight}\")\n",
    "    print(f\"Recommended Plant: {recommended_plant}\")\n",
    " "
   ]
  },
  {
   "cell_type": "code",
   "execution_count": null,
   "id": "f2c08614",
   "metadata": {},
   "outputs": [],
   "source": []
  }
 ],
 "metadata": {
  "kernelspec": {
   "display_name": "Python 3 (ipykernel)",
   "language": "python",
   "name": "python3"
  },
  "language_info": {
   "codemirror_mode": {
    "name": "ipython",
    "version": 3
   },
   "file_extension": ".py",
   "mimetype": "text/x-python",
   "name": "python",
   "nbconvert_exporter": "python",
   "pygments_lexer": "ipython3",
   "version": "3.11.5"
  }
 },
 "nbformat": 4,
 "nbformat_minor": 5
}
